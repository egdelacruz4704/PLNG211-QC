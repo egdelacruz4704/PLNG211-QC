{
  "nbformat": 4,
  "nbformat_minor": 0,
  "metadata": {
    "colab": {
      "provenance": [],
      "authorship_tag": "ABX9TyMil+vm2n9uOSEtb/M3U5uN",
      "include_colab_link": true
    },
    "kernelspec": {
      "name": "python3",
      "display_name": "Python 3"
    },
    "language_info": {
      "name": "python"
    }
  },
  "cells": [
    {
      "cell_type": "markdown",
      "metadata": {
        "id": "view-in-github",
        "colab_type": "text"
      },
      "source": [
        "<a href=\"https://colab.research.google.com/github/egdelacruz4704/PLNG211-QC/blob/main/Introduction_to_Python_Programming.ipynb\" target=\"_parent\"><img src=\"https://colab.research.google.com/assets/colab-badge.svg\" alt=\"Open In Colab\"/></a>"
      ]
    },
    {
      "cell_type": "markdown",
      "source": [
        "Python Identation"
      ],
      "metadata": {
        "id": "MhfLWz_xzyWp"
      }
    },
    {
      "cell_type": "code",
      "source": [
        "#Python identation example (labeling)\n",
        "\n",
        "if 5>2:\n",
        "  print(\"5 is greater than 2\")\n",
        "#This is a comment\n",
        "  print(\"Hello, World\")\n",
        "  myVar = \"John\"\n",
        "  b = \"Sally\" #This is a type of string"
      ],
      "metadata": {
        "colab": {
          "base_uri": "https://localhost:8080/"
        },
        "id": "4BD3yvXpzzzr",
        "outputId": "147708e9-0f0a-4562-e830-66fca3a0b3f3"
      },
      "execution_count": null,
      "outputs": [
        {
          "output_type": "stream",
          "name": "stdout",
          "text": [
            "5 is greater than 2\n",
            "Hello, World\n"
          ]
        }
      ]
    },
    {
      "cell_type": "markdown",
      "source": [
        "Python Variables"
      ],
      "metadata": {
        "id": "jzJ4gTNe0FMD"
      }
    },
    {
      "cell_type": "code",
      "source": [
        "x = 1\n",
        "a, b = 0, -1\n",
        "print(a)\n",
        "c= \"Sally\"\n",
        "c = \"Danny\"\n",
        "#Code is read by line so the newer declaration will be read.\n",
        "print(c)\n",
        "c= \"Maria\""
      ],
      "metadata": {
        "colab": {
          "base_uri": "https://localhost:8080/"
        },
        "id": "RDjUBMAu0Gc0",
        "outputId": "d0095236-e9db-4abb-adc5-20502e66b47a"
      },
      "execution_count": null,
      "outputs": [
        {
          "output_type": "stream",
          "name": "stdout",
          "text": [
            "0\n",
            "Danny\n"
          ]
        }
      ]
    },
    {
      "cell_type": "code",
      "source": [
        "print(c)\n",
        "#code cell will print latest (c) declaration from previous cell."
      ],
      "metadata": {
        "colab": {
          "base_uri": "https://localhost:8080/"
        },
        "id": "rox_uYE70ayq",
        "outputId": "8375b075-db1d-4fea-cb27-c13ceaff4468"
      },
      "execution_count": null,
      "outputs": [
        {
          "output_type": "stream",
          "name": "stdout",
          "text": [
            "Maria\n"
          ]
        }
      ]
    },
    {
      "cell_type": "markdown",
      "source": [
        "Multiple Variables"
      ],
      "metadata": {
        "id": "FBWPcO760nva"
      }
    },
    {
      "cell_type": "code",
      "source": [
        "#Multiple variables with declarations in a single line.\n",
        "f, g, h = \"one\", \"two\", \"three\"\n",
        "print(f)\n",
        "print(g)\n",
        "print(h)"
      ],
      "metadata": {
        "colab": {
          "base_uri": "https://localhost:8080/"
        },
        "id": "ulWQOLfD0pCC",
        "outputId": "c8bd9141-b462-4758-ae88-5ec6c03f1d92"
      },
      "execution_count": null,
      "outputs": [
        {
          "output_type": "stream",
          "name": "stdout",
          "text": [
            "one\n",
            "two\n",
            "three\n"
          ]
        }
      ]
    },
    {
      "cell_type": "markdown",
      "source": [
        "Python Casting"
      ],
      "metadata": {
        "id": "hVOYBPJM0zGE"
      }
    },
    {
      "cell_type": "code",
      "source": [
        "#Explicit type casting\n",
        "#Python needs user involvement to convert the variable data type into certain data type\n",
        "d = int(4) \n",
        "print(d)\n",
        "\n",
        "e = float(4)\n",
        "print(e)"
      ],
      "metadata": {
        "colab": {
          "base_uri": "https://localhost:8080/"
        },
        "id": "63rEDGF-001b",
        "outputId": "9ec0805a-ea3a-457c-cc60-88007f4ddec2"
      },
      "execution_count": null,
      "outputs": [
        {
          "output_type": "stream",
          "name": "stdout",
          "text": [
            "4\n",
            "4.0\n"
          ]
        }
      ]
    },
    {
      "cell_type": "code",
      "source": [
        "#Implicit type casting\n",
        "#Python automatically converts data types.\n",
        "d= 4.0\n",
        "e = 4\n",
        "print(type(d))\n",
        "print(type(e))"
      ],
      "metadata": {
        "colab": {
          "base_uri": "https://localhost:8080/"
        },
        "id": "9iCjDG0C1KID",
        "outputId": "7c54bd60-a64e-4048-b4eb-fe7eb71237cf"
      },
      "execution_count": null,
      "outputs": [
        {
          "output_type": "stream",
          "name": "stdout",
          "text": [
            "<class 'float'>\n",
            "<class 'int'>\n"
          ]
        }
      ]
    },
    {
      "cell_type": "markdown",
      "source": [
        "Single Quote and Double Quote"
      ],
      "metadata": {
        "id": "LnqF2MvK1h8a"
      }
    },
    {
      "cell_type": "code",
      "source": [
        "print('Look')\n",
        "print(\"Look\")\n",
        "#Single or double quotation is interchangable in Python"
      ],
      "metadata": {
        "colab": {
          "base_uri": "https://localhost:8080/"
        },
        "id": "HzLUUTdg1kGF",
        "outputId": "85173b61-a347-47bd-c789-643349bde5a7"
      },
      "execution_count": null,
      "outputs": [
        {
          "output_type": "stream",
          "name": "stdout",
          "text": [
            "Look\n",
            "Look\n"
          ]
        }
      ]
    },
    {
      "cell_type": "markdown",
      "source": [
        "Output Variables"
      ],
      "metadata": {
        "id": "jFN4UCf11noE"
      }
    },
    {
      "cell_type": "code",
      "source": [
        "#Print displays output of variables.\n",
        "s = \"Python\"\n",
        "t = \"is\"\n",
        "r = \"fun\"\n",
        "print(s + t + r)\n",
        "#No blank space decleared in the variables. Can be added with a single/double quotation\n",
        "print(s + ' ' + t + ' ' + r)"
      ],
      "metadata": {
        "colab": {
          "base_uri": "https://localhost:8080/"
        },
        "id": "TQAVqWo610MM",
        "outputId": "c01da9bc-09d3-4847-d43f-ab050e823045"
      },
      "execution_count": null,
      "outputs": [
        {
          "output_type": "stream",
          "name": "stdout",
          "text": [
            "Pythonisfun\n",
            "Python is fun\n"
          ]
        }
      ]
    },
    {
      "cell_type": "markdown",
      "source": [
        "Arithmetics"
      ],
      "metadata": {
        "id": "V_Dx0GFP2Z4z"
      }
    },
    {
      "cell_type": "code",
      "source": [
        "x = 1\n",
        "y = 2\n",
        "sum = x+y\n",
        "sum\n",
        "sum\n",
        "sum\n",
        "sum\n",
        "x\n",
        "print(x+y)\n",
        "print(x)\n",
        "print(y)\n",
        "print(sum)\n",
        "\n",
        "#modulo\n",
        "l = 4%2\n",
        "print(\"4%2 = \",l)\n",
        "\n",
        "#floor division\n",
        "k = 3//2\n",
        "print(\"3//2 = \", k)"
      ],
      "metadata": {
        "colab": {
          "base_uri": "https://localhost:8080/"
        },
        "id": "-qmN0hqc2bKb",
        "outputId": "b42b417a-b8c0-43e3-ee28-eceb7e9c19bb"
      },
      "execution_count": null,
      "outputs": [
        {
          "output_type": "stream",
          "name": "stdout",
          "text": [
            "3\n",
            "1\n",
            "2\n",
            "3\n",
            "4%2 =  0\n",
            "3//2 =  1\n"
          ]
        }
      ]
    },
    {
      "cell_type": "markdown",
      "source": [
        "Assignment Operator"
      ],
      "metadata": {
        "id": "JsimzJO220Dk"
      }
    },
    {
      "cell_type": "code",
      "source": [
        "x+=1\n",
        "print(x)"
      ],
      "metadata": {
        "colab": {
          "base_uri": "https://localhost:8080/"
        },
        "id": "P0KsyXY122cs",
        "outputId": "327a4359-9715-4ebd-9be4-e96e2d1cebf9"
      },
      "execution_count": null,
      "outputs": [
        {
          "output_type": "stream",
          "name": "stdout",
          "text": [
            "2\n"
          ]
        }
      ]
    },
    {
      "cell_type": "markdown",
      "source": [
        "Loigcal Operator"
      ],
      "metadata": {
        "id": "7rAwMk2725qT"
      }
    },
    {
      "cell_type": "code",
      "source": [
        "q = 1\n",
        "r = 4\n",
        "\n",
        "q>r and r==r"
      ],
      "metadata": {
        "colab": {
          "base_uri": "https://localhost:8080/"
        },
        "id": "7mDtdBp127dm",
        "outputId": "0f93fcf0-5873-4fbf-e84e-ed1b80efed2f"
      },
      "execution_count": null,
      "outputs": [
        {
          "output_type": "execute_result",
          "data": {
            "text/plain": [
              "False"
            ]
          },
          "metadata": {},
          "execution_count": 17
        }
      ]
    }
  ]
}