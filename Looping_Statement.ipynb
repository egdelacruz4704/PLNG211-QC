{
  "nbformat": 4,
  "nbformat_minor": 0,
  "metadata": {
    "colab": {
      "provenance": [],
      "authorship_tag": "ABX9TyN9Wno5VU7y7CTfVWqb/otb",
      "include_colab_link": true
    },
    "kernelspec": {
      "name": "python3",
      "display_name": "Python 3"
    },
    "language_info": {
      "name": "python"
    }
  },
  "cells": [
    {
      "cell_type": "markdown",
      "metadata": {
        "id": "view-in-github",
        "colab_type": "text"
      },
      "source": [
        "<a href=\"https://colab.research.google.com/github/egdelacruz4704/PLNG211-QC/blob/main/Looping_Statement.ipynb\" target=\"_parent\"><img src=\"https://colab.research.google.com/assets/colab-badge.svg\" alt=\"Open In Colab\"/></a>"
      ]
    },
    {
      "cell_type": "markdown",
      "source": [
        "While Loop"
      ],
      "metadata": {
        "id": "0xBUeqjB3Yta"
      }
    },
    {
      "cell_type": "code",
      "source": [
        "#break statement\n",
        "\n",
        "i = 1\n",
        "while i < 6:\n",
        "  print(i)\n",
        "  if i==3:\n",
        "    break\n",
        "  i+=1      #increment, i = i+1\n"
      ],
      "metadata": {
        "colab": {
          "base_uri": "https://localhost:8080/"
        },
        "id": "LMF60Alo2z4H",
        "outputId": "a86d82fb-742c-4e8f-b573-0ad76fbfc22a"
      },
      "execution_count": 1,
      "outputs": [
        {
          "output_type": "stream",
          "name": "stdout",
          "text": [
            "1\n",
            "2\n",
            "3\n"
          ]
        }
      ]
    },
    {
      "cell_type": "code",
      "source": [],
      "metadata": {
        "id": "SoVeX2GW385A"
      },
      "execution_count": null,
      "outputs": []
    },
    {
      "cell_type": "code",
      "source": [
        "#break statement application 1\n",
        "# Display only 3 after using break statement\n",
        "\n",
        "i = 1\n",
        "while i < 6:\n",
        "  if i==3:\n",
        "    print(i)\n",
        "    break\n",
        "  i+=1\n"
      ],
      "metadata": {
        "id": "OjyeSImb3rN3",
        "colab": {
          "base_uri": "https://localhost:8080/"
        },
        "outputId": "9b7e16ae-982b-424f-82f6-63a21fd7fa06"
      },
      "execution_count": 9,
      "outputs": [
        {
          "output_type": "stream",
          "name": "stdout",
          "text": [
            "3\n"
          ]
        }
      ]
    },
    {
      "cell_type": "code",
      "source": [
        "#continue statement\n",
        "\n",
        "i = 0\n",
        "while i < 6:\n",
        "  i += 1\n",
        "  if i == 3:\n",
        "    continue\n",
        "  print(i)"
      ],
      "metadata": {
        "colab": {
          "base_uri": "https://localhost:8080/"
        },
        "id": "hErMcS2q5KUr",
        "outputId": "64cd127e-e406-4d25-e508-bca4c78ddfbc"
      },
      "execution_count": 13,
      "outputs": [
        {
          "output_type": "stream",
          "name": "stdout",
          "text": [
            "1\n",
            "2\n",
            "4\n",
            "5\n",
            "6\n",
            "7\n"
          ]
        }
      ]
    },
    {
      "cell_type": "code",
      "source": [
        "#else statement\n",
        "\n",
        "s=1\n",
        "while s<6:\n",
        "  print(s)\n",
        "  s+=1\n",
        "else:\n",
        "  print(\"s is no longer less than 6\")"
      ],
      "metadata": {
        "colab": {
          "base_uri": "https://localhost:8080/"
        },
        "id": "pEVh4FOq68VX",
        "outputId": "5ac71f93-8f9e-4717-a207-940bb5b63619"
      },
      "execution_count": 17,
      "outputs": [
        {
          "output_type": "stream",
          "name": "stdout",
          "text": [
            "1\n",
            "2\n",
            "3\n",
            "4\n",
            "5\n",
            "s is no longer less than 6\n"
          ]
        }
      ]
    },
    {
      "cell_type": "code",
      "source": [
        "#Application 2:\n",
        "#Create a Python program that displays\n",
        "\n",
        "h=0\n",
        "while h<=10:\n",
        "  print(\"Hello \", h)\n",
        "  h+=1\n"
      ],
      "metadata": {
        "colab": {
          "base_uri": "https://localhost:8080/"
        },
        "id": "QTpA4ixZ7tQk",
        "outputId": "3112e812-adb3-4852-c4f3-5b0684f41cc5"
      },
      "execution_count": 20,
      "outputs": [
        {
          "output_type": "stream",
          "name": "stdout",
          "text": [
            "Hello  0\n",
            "Hello  1\n",
            "Hello  2\n",
            "Hello  3\n",
            "Hello  4\n",
            "Hello  5\n",
            "Hello  6\n",
            "Hello  7\n",
            "Hello  8\n",
            "Hello  9\n",
            "Hello  10\n"
          ]
        }
      ]
    }
  ]
}