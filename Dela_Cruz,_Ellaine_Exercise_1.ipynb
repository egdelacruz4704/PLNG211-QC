{
  "nbformat": 4,
  "nbformat_minor": 0,
  "metadata": {
    "colab": {
      "provenance": [],
      "authorship_tag": "ABX9TyNJexVOGjx58is/insRxWqI",
      "include_colab_link": true
    },
    "kernelspec": {
      "name": "python3",
      "display_name": "Python 3"
    },
    "language_info": {
      "name": "python"
    }
  },
  "cells": [
    {
      "cell_type": "markdown",
      "metadata": {
        "id": "view-in-github",
        "colab_type": "text"
      },
      "source": [
        "<a href=\"https://colab.research.google.com/github/egdelacruz4704/PLNG211-QC/blob/main/Dela_Cruz%2C_Ellaine_Exercise_1.ipynb\" target=\"_parent\"><img src=\"https://colab.research.google.com/assets/colab-badge.svg\" alt=\"Open In Colab\"/></a>"
      ]
    },
    {
      "cell_type": "code",
      "source": [
        "scores = [26,49,98,87,62,75]\n",
        "esum= 0\n",
        "\n",
        "print(\"The default scores are: \", scores)\n",
        "print(\"The even scores are: \")\n",
        "\n",
        "for even in scores:\n",
        "  if (even % 2 == 0):\n",
        "    esum += even\n",
        "    print(even)\n",
        "\n",
        "print(\"The sum of all even scores are: \", esum)    "
      ],
      "metadata": {
        "colab": {
          "base_uri": "https://localhost:8080/"
        },
        "id": "7HJRgXrGbAGx",
        "outputId": "8f6029da-5cfa-425b-9548-31af56af4e7f"
      },
      "execution_count": 117,
      "outputs": [
        {
          "output_type": "stream",
          "name": "stdout",
          "text": [
            "The default scores are:  [26, 49, 98, 87, 62, 75]\n",
            "The even scores are: \n",
            "26\n",
            "98\n",
            "62\n",
            "The sum of all even scores are:  186\n"
          ]
        }
      ]
    }
  ]
}