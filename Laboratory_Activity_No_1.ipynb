{
  "nbformat": 4,
  "nbformat_minor": 0,
  "metadata": {
    "colab": {
      "provenance": [],
      "authorship_tag": "ABX9TyNmiQKS31zqIfIMCzhCgwgW",
      "include_colab_link": true
    },
    "kernelspec": {
      "name": "python3",
      "display_name": "Python 3"
    },
    "language_info": {
      "name": "python"
    }
  },
  "cells": [
    {
      "cell_type": "markdown",
      "metadata": {
        "id": "view-in-github",
        "colab_type": "text"
      },
      "source": [
        "<a href=\"https://colab.research.google.com/github/egdelacruz4704/PLNG211-QC/blob/main/Laboratory_Activity_No_1.ipynb\" target=\"_parent\"><img src=\"https://colab.research.google.com/assets/colab-badge.svg\" alt=\"Open In Colab\"/></a>"
      ]
    },
    {
      "cell_type": "markdown",
      "source": [
        "**PROBLEM 1**"
      ],
      "metadata": {
        "id": "6CRLURkg2zKc"
      }
    },
    {
      "cell_type": "code",
      "source": [
        "#Write a Python program to create an array of 10 integers and display the array items.\n",
        "#Access individual elements through indexes and compute for the sum.\n",
        "array = []\n",
        "sum = 0\n",
        "size = 10\n",
        "\n",
        "for i in range(size):\n",
        "  num = int(input(\"Enter integer: \"))\n",
        "  array.append(num)\n",
        "  sum+=num\n",
        "\n",
        "print(\"\\nArray items:\", array)  #display array items\n",
        "print(\"The array in index 0 is: \", array[0]) #display array through indexes\n",
        "print(\"The array in index 1 is: \", array[1])\n",
        "print(\"The array in index 2 is: \", array[2])\n",
        "print(\"The array in index 3 is: \", array[3])\n",
        "print(\"The array in index 4 is: \", array[4])\n",
        "print(\"The array in index 5 is: \", array[5])\n",
        "print(\"The array in index 6 is: \", array[6])\n",
        "print(\"The array in index 7 is: \", array[7])\n",
        "print(\"The array in index 8 is: \", array[8])\n",
        "print(\"The array in index 9 is: \", array[9])\n",
        "\n",
        "print(\"\\nThe sum of arrays:\", sum)  #display sum\n"
      ],
      "metadata": {
        "colab": {
          "base_uri": "https://localhost:8080/"
        },
        "id": "1d7cLJAw21xB",
        "outputId": "c308d187-3a74-42c4-9202-7c9ce8957964"
      },
      "execution_count": 1,
      "outputs": [
        {
          "output_type": "stream",
          "name": "stdout",
          "text": [
            "Enter integer: 1\n",
            "Enter integer: 2\n",
            "Enter integer: 3\n",
            "Enter integer: 4\n",
            "Enter integer: 5\n",
            "Enter integer: 6\n",
            "Enter integer: 7\n",
            "Enter integer: 8\n",
            "Enter integer: 9\n",
            "Enter integer: 10\n",
            "\n",
            "Array items: [1, 2, 3, 4, 5, 6, 7, 8, 9, 10]\n",
            "The array in index 0 is:  1\n",
            "The array in index 1 is:  2\n",
            "The array in index 2 is:  3\n",
            "The array in index 3 is:  4\n",
            "The array in index 4 is:  5\n",
            "The array in index 5 is:  6\n",
            "The array in index 6 is:  7\n",
            "The array in index 7 is:  8\n",
            "The array in index 8 is:  9\n",
            "The array in index 9 is:  10\n",
            "\n",
            "The sum of arrays: 55\n"
          ]
        }
      ]
    },
    {
      "cell_type": "markdown",
      "source": [
        "**PROBLEM 2**"
      ],
      "metadata": {
        "id": "k7bbyARL3B6y"
      }
    },
    {
      "cell_type": "code",
      "source": [
        "#2. Write a Python program to append a new item to the end of the array.\n",
        "#Original array: numbers = [1, 2, 3, 4, 5, 6, 7, 8, 9, 10]\n",
        "numbers = [1, 2, 3, 4, 5, 6, 7, 8, 9, 10]\n",
        "\n",
        "print(\"Array items:\", numbers) #display array items before appending\n",
        "input = int(input(\"\\nEnter a new item to append: \"))\n",
        "numbers.append(input)\n",
        "\n",
        "print(\"\\nNew Array items:\", numbers)  #display new array items\n"
      ],
      "metadata": {
        "colab": {
          "base_uri": "https://localhost:8080/"
        },
        "id": "djY4uhoM3D75",
        "outputId": "a789577c-1f2a-41ee-ef78-75ea88a8efdd"
      },
      "execution_count": 2,
      "outputs": [
        {
          "output_type": "stream",
          "name": "stdout",
          "text": [
            "Array items: [1, 2, 3, 4, 5, 6, 7, 8, 9, 10]\n",
            "\n",
            "Enter a new item to append: 11\n",
            "\n",
            "New Array items: [1, 2, 3, 4, 5, 6, 7, 8, 9, 10, 11]\n"
          ]
        }
      ]
    },
    {
      "cell_type": "markdown",
      "source": [
        "PROBLEM **3**"
      ],
      "metadata": {
        "id": "Gz_yVfza3ImJ"
      }
    },
    {
      "cell_type": "code",
      "source": [
        "#3. Write a Python program to insert a new item before the second element in an existing array. \n",
        "#Original array: numbers = [1, 2, 3, 4, 5, 6, 7, 8, 9, 10]\n",
        "numbers = [1, 2, 3, 4, 5, 6, 7, 8, 9, 10] #declare and initialise array\n",
        "\n",
        "print(\"Array items:\", numbers) #display array items before inserting a new item\n",
        "inp = int(input(\"\\nEnter a new item to insert: \"))\n",
        "numbers.insert(1, inp) #inserts it in a specific index\n",
        "\n",
        "print(\"\\nNew Array items:\", numbers)  #display new array items"
      ],
      "metadata": {
        "colab": {
          "base_uri": "https://localhost:8080/",
          "height": 252
        },
        "id": "cbJvDWVR34W6",
        "outputId": "08b540d0-bbca-4847-fb85-5177459dc888"
      },
      "execution_count": 14,
      "outputs": [
        {
          "output_type": "stream",
          "name": "stdout",
          "text": [
            "Array items: [1, 2, 3, 4, 5, 6, 7, 8, 9, 10]\n"
          ]
        },
        {
          "output_type": "error",
          "ename": "TypeError",
          "evalue": "ignored",
          "traceback": [
            "\u001b[0;31m---------------------------------------------------------------------------\u001b[0m",
            "\u001b[0;31mTypeError\u001b[0m                                 Traceback (most recent call last)",
            "\u001b[0;32m<ipython-input-14-3887621e6cef>\u001b[0m in \u001b[0;36m<module>\u001b[0;34m\u001b[0m\n\u001b[1;32m      4\u001b[0m \u001b[0;34m\u001b[0m\u001b[0m\n\u001b[1;32m      5\u001b[0m \u001b[0mprint\u001b[0m\u001b[0;34m(\u001b[0m\u001b[0;34m\"Array items:\"\u001b[0m\u001b[0;34m,\u001b[0m \u001b[0mnumbers\u001b[0m\u001b[0;34m)\u001b[0m \u001b[0;31m#display array items before inserting a new item\u001b[0m\u001b[0;34m\u001b[0m\u001b[0;34m\u001b[0m\u001b[0m\n\u001b[0;32m----> 6\u001b[0;31m \u001b[0minp\u001b[0m \u001b[0;34m=\u001b[0m \u001b[0mint\u001b[0m\u001b[0;34m(\u001b[0m\u001b[0minput\u001b[0m\u001b[0;34m(\u001b[0m\u001b[0;34m\"\\nEnter a new item to insert: \"\u001b[0m\u001b[0;34m)\u001b[0m\u001b[0;34m)\u001b[0m\u001b[0;34m\u001b[0m\u001b[0;34m\u001b[0m\u001b[0m\n\u001b[0m\u001b[1;32m      7\u001b[0m \u001b[0mnumbers\u001b[0m\u001b[0;34m.\u001b[0m\u001b[0minsert\u001b[0m\u001b[0;34m(\u001b[0m\u001b[0;36m1\u001b[0m\u001b[0;34m,\u001b[0m \u001b[0minp\u001b[0m\u001b[0;34m)\u001b[0m \u001b[0;31m#inserts it in a specific index\u001b[0m\u001b[0;34m\u001b[0m\u001b[0;34m\u001b[0m\u001b[0m\n\u001b[1;32m      8\u001b[0m \u001b[0;34m\u001b[0m\u001b[0m\n",
            "\u001b[0;31mTypeError\u001b[0m: 'int' object is not callable"
          ]
        }
      ]
    },
    {
      "cell_type": "markdown",
      "source": [
        "**PROBLEM 4**"
      ],
      "metadata": {
        "id": "sHxQw0Hz4k8Y"
      }
    },
    {
      "cell_type": "code",
      "source": [
        "#4. Write a Python program to reverse the order of the items in the array.\n",
        "#Original array: numbers = [5, 4, 3, 2, 1]\n",
        "numbers = [5, 4, 3, 2, 1] #declare and initialise array\n",
        "\n",
        "print(\"Original array items:\", numbers) #display pre-reversed array\n",
        "\n",
        "numbers.reverse()\n",
        "\n",
        "print(\"\\nReversed array items:\", numbers)  #display reversed array\n"
      ],
      "metadata": {
        "colab": {
          "base_uri": "https://localhost:8080/"
        },
        "id": "o2iPUiU74m6g",
        "outputId": "90902e3d-ec59-4b4a-e158-4185c79af614"
      },
      "execution_count": 15,
      "outputs": [
        {
          "output_type": "stream",
          "name": "stdout",
          "text": [
            "Original array items: [5, 4, 3, 2, 1]\n",
            "\n",
            "Reversed array items: [1, 2, 3, 4, 5]\n"
          ]
        }
      ]
    },
    {
      "cell_type": "markdown",
      "source": [
        "PROBLEM **5**"
      ],
      "metadata": {
        "id": "VKL4W4_54t9o"
      }
    },
    {
      "cell_type": "code",
      "source": [
        "#5. Write a Python program to get the length of the array.\n",
        "#Original array: numbers = [5, 4, 3, 2, 1]\n",
        "numbers = [5, 4, 3, 2, 1] \n",
        "\n",
        "print(\"Array items:\", numbers) \n",
        "\n",
        "length = len(numbers)\n",
        "\n",
        "print(\"\\nArray length:\", length)  #display reversed array\n"
      ],
      "metadata": {
        "colab": {
          "base_uri": "https://localhost:8080/"
        },
        "id": "4iaKYoOL4uM3",
        "outputId": "9b97ccf9-7476-44ab-eedd-6e85c76704ea"
      },
      "execution_count": 16,
      "outputs": [
        {
          "output_type": "stream",
          "name": "stdout",
          "text": [
            "Array items: [5, 4, 3, 2, 1]\n",
            "\n",
            "Array length: 5\n"
          ]
        }
      ]
    }
  ]
}