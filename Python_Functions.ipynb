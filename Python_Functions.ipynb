{
  "nbformat": 4,
  "nbformat_minor": 0,
  "metadata": {
    "colab": {
      "provenance": [],
      "authorship_tag": "ABX9TyNHasIPqY6MMoccTt6gJEoF",
      "include_colab_link": true
    },
    "kernelspec": {
      "name": "python3",
      "display_name": "Python 3"
    },
    "language_info": {
      "name": "python"
    }
  },
  "cells": [
    {
      "cell_type": "markdown",
      "metadata": {
        "id": "view-in-github",
        "colab_type": "text"
      },
      "source": [
        "<a href=\"https://colab.research.google.com/github/egdelacruz4704/PLNG211-QC/blob/main/Python_Functions.ipynb\" target=\"_parent\"><img src=\"https://colab.research.google.com/assets/colab-badge.svg\" alt=\"Open In Colab\"/></a>"
      ]
    },
    {
      "cell_type": "code",
      "execution_count": 3,
      "metadata": {
        "colab": {
          "base_uri": "https://localhost:8080/"
        },
        "id": "mvXzvd1YVCm8",
        "outputId": "ab6fb31c-f7ce-4bfd-f605-d46731f9de4a"
      },
      "outputs": [
        {
          "output_type": "stream",
          "name": "stdout",
          "text": [
            "100\n",
            "Celsius 37.78\n",
            "Kelvin 310.93\n"
          ]
        }
      ],
      "source": [
        "#Writing your own function/conversion\n",
        "def convert_to_celsius(fahrenheit):\n",
        "  return (fahrenheit-32) * 5/9\n",
        "\n",
        "def convert_to_kelvin(fahrenheit):\n",
        "  return ((fahrenheit-32) * 5/9) + 273.15\n",
        "fahrenheit = int(input())\n",
        "\n",
        "print(\"Celsius\", round(convert_to_celsius(fahrenheit),2))\n",
        "print(\"Kelvin\",round(convert_to_kelvin(fahrenheit),2))"
      ]
    },
    {
      "cell_type": "code",
      "source": [
        "def Name():\n",
        "    pass"
      ],
      "metadata": {
        "id": "7qVDJjEmWV_n"
      },
      "execution_count": 4,
      "outputs": []
    },
    {
      "cell_type": "code",
      "source": [
        "def my_function(fname):\n",
        "  return(fname + \"Sayo\")\n",
        "\n",
        "print(my_function(\"Mam\"))\n",
        "print(my_function(\"Maria\"))\n",
        "print(my_function(\"Rizette\"))"
      ],
      "metadata": {
        "colab": {
          "base_uri": "https://localhost:8080/"
        },
        "id": "3Si1KikhWmx3",
        "outputId": "bb34a352-050c-4061-d8ae-28e17e09da2f"
      },
      "execution_count": 9,
      "outputs": [
        {
          "output_type": "stream",
          "name": "stdout",
          "text": [
            "MamSayo\n",
            "MariaSayo\n",
            "RizetteSayo\n"
          ]
        }
      ]
    },
    {
      "cell_type": "code",
      "source": [
        "#Returns a value\n",
        "\n",
        "def myFunction(x):\n",
        "  return(5+x)\n",
        "\n",
        "print(myFunction(4))\n",
        "print(myFunction(5))\n",
        "print(myFunction(6))\n"
      ],
      "metadata": {
        "colab": {
          "base_uri": "https://localhost:8080/"
        },
        "id": "go9EZM5XXQXK",
        "outputId": "4ced5989-41cd-4631-d442-3787db32d5d8"
      },
      "execution_count": 12,
      "outputs": [
        {
          "output_type": "stream",
          "name": "stdout",
          "text": [
            "9\n",
            "10\n",
            "11\n"
          ]
        }
      ]
    },
    {
      "cell_type": "code",
      "source": [
        "#Exercise 1: Two of Python's built-in functions are min and max. In the Python shell, execute the following function calls:\n",
        "print(\"min(2, 3, 4):\")\n",
        "print(min(2,3,4))\n",
        "\n",
        "print(\"max(2, -3, 4, 7, -5):\")\n",
        "print(max(2, -3, 4, 7, -5))\n",
        "\n",
        "print(\"max(2,-3,min(4, 7), -5):\")\n",
        "print(max(2,-3,min(4,7), -5))"
      ],
      "metadata": {
        "colab": {
          "base_uri": "https://localhost:8080/"
        },
        "id": "88bjEF-lXl24",
        "outputId": "e368c804-84aa-41a9-d863-4600fd8e1f3e"
      },
      "execution_count": 29,
      "outputs": [
        {
          "output_type": "stream",
          "name": "stdout",
          "text": [
            "min(2, 3, 4):\n",
            "2\n",
            "max(2, -3, 4, 7, -5):\n",
            "7\n",
            "max(2,-3,min(4, 7), -5):\n",
            "4\n"
          ]
        }
      ]
    },
    {
      "cell_type": "code",
      "source": [
        "#Exercise 2: Write a Python function that will return the sum, the average, and the sum of squares of three integers\n",
        "\n",
        "def sum_function(a, b, c):\n",
        "  return(a+b+c)\n",
        "\n",
        "def avg_function(a, b, c): \n",
        "  return((a+b+c)/3)\n",
        "\n",
        "def sumsquares(a, b, c):\n",
        "  return(pow(a,2)+pow(b,2)+pow(c,2))\n",
        "\n",
        "a = int(input(\"Enter int 1: \"))\n",
        "b = int(input(\"Enter int 2: \"))\n",
        "c = int(input(\"Enter int 3: \"))\n",
        "\n",
        "print(\"\\nThe sum of \",a,b,c,\" is: \",sum_function(a,b,c))\n",
        "print(\"The average of \",a,b,c,\" is: \",avg_function(a,b,c))\n",
        "print(\"The sum of sqaures of \",a,b,c,\" are: \",sumsquares(a,b,c))\n",
        "\n",
        "\n"
      ],
      "metadata": {
        "colab": {
          "base_uri": "https://localhost:8080/"
        },
        "id": "dHnzGV-FXnXw",
        "outputId": "0e26c6a5-c50e-49ed-f7c6-5ddd3596b26e"
      },
      "execution_count": 39,
      "outputs": [
        {
          "output_type": "stream",
          "name": "stdout",
          "text": [
            "Enter int 1: 1\n",
            "Enter int 2: 2\n",
            "Enter int 3: 3\n",
            "\n",
            "The sum of  1 2 3  is:  6\n",
            "The average of  1 2 3  is:  2.0\n",
            "The sum of sqaures of  1 2 3  are:  14\n"
          ]
        }
      ]
    }
  ]
}